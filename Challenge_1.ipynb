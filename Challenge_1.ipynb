{
 "cells": [
  {
   "cell_type": "raw",
   "metadata": {},
   "source": [
    "Cryptographie - Challenge 1"
   ]
  },
  {
   "cell_type": "raw",
   "metadata": {},
   "source": [
    "Le premier challenge été de trouver le lien pour accèder au challenge."
   ]
  },
  {
   "cell_type": "raw",
   "metadata": {},
   "source": [
    "La question est commment avons nous trouver l'utl, en cherchant on remarque que les lettre sont melanger."
   ]
  },
  {
   "cell_type": "raw",
   "metadata": {},
   "source": [
    "Il faut tous dabord ce pencher sur la methode de \"supstitution\" "
   ]
  },
  {
   "cell_type": "markdown",
   "metadata": {},
   "source": [
    "Le lien vers le site étais crypter en Rail Fence Cypher"
   ]
  },
  {
   "cell_type": "markdown",
   "metadata": {},
   "source": [
    "ctlf.rpobakotiy.coo => crypto.blackfoot.io"
   ]
  },
  {
   "cell_type": "code",
   "execution_count": 4,
   "metadata": {},
   "outputs": [
    {
     "name": "stdout",
     "output_type": "stream",
     "text": [
      "crypto.blackfoot.io\n"
     ]
    }
   ],
   "source": [
    "def offset(even, rails, rail):\n",
    "    if rail == 0 or rail == rails - 1:\n",
    "        return (rails - 1) * 2\n",
    "\n",
    "    if even:\n",
    "        return 2 * rail\n",
    "    else:\n",
    "        return 2*(rails - 1 - rail)\n",
    "\n",
    "\n",
    "\n",
    "def decryptRailFence(encrypted, rails, showOff = 0):\n",
    "    array = [[\" \" for col in range(len(encrypted))] for row in range(rails)]\n",
    "    read = 0\n",
    "    \n",
    "    #build our fence\n",
    "    for rail in range(rails):\n",
    "        pos = offset(1, rails, rail)\n",
    "        even = 0;\n",
    "        \n",
    "        if rail == 0:\n",
    "            pos = 0\n",
    "        else:\n",
    "            pos = int(pos / 2)\n",
    "        \n",
    "        while pos < len(encrypted):\n",
    "            if read == len(encrypted):\n",
    "                break\n",
    "\n",
    "            array[rail][pos] = encrypted[read];\n",
    "            read = read + 1\n",
    "\n",
    "            pos = pos + offset(even, rails, rail)\n",
    "            even = not even\n",
    "\n",
    "\n",
    "    if showOff:\n",
    "        #hooray, done! show our handy work\n",
    "        for row in array:\n",
    "            print(row)\n",
    "\n",
    "    #now return the decoded message\n",
    "    decoded = \"\"\n",
    "\n",
    "    for x in range(len(encrypted)):\n",
    "        for y in range(rails):\n",
    "            if array[y][x] != \" \":\n",
    "                decoded += array[y][x]\n",
    "\n",
    "    return decoded\n",
    "\n",
    "print (decryptRailFence(\"ctlf.rpobakotiy.coo\", 3, 0));\n",
    "\n"
   ]
  },
  {
   "cell_type": "code",
   "execution_count": null,
   "metadata": {},
   "outputs": [],
   "source": []
  }
 ],
 "metadata": {
  "kernelspec": {
   "display_name": "Python 3",
   "language": "python",
   "name": "python3"
  },
  "language_info": {
   "codemirror_mode": {
    "name": "ipython",
    "version": 3
   },
   "file_extension": ".py",
   "mimetype": "text/x-python",
   "name": "python",
   "nbconvert_exporter": "python",
   "pygments_lexer": "ipython3",
   "version": "3.7.6"
  }
 },
 "nbformat": 4,
 "nbformat_minor": 4
}
