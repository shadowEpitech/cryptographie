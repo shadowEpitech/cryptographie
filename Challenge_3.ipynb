{
 "cells": [
  {
   "cell_type": "raw",
   "metadata": {},
   "source": [
    "Crypttographie - Challenge 3"
   ]
  },
  {
   "cell_type": "markdown",
   "metadata": {},
   "source": [
    "On nous explique dans l'énoncer que la personne à malencontresement encrypter le fichier en xor il nous dit qu'on peut trouver le fichier à l'adresse crypto.blackfoot.io/ch2.bmp"
   ]
  },
  {
   "cell_type": "markdown",
   "metadata": {},
   "source": [
    "Quesqu'un fichier \".bmp\", c'est un fichier au format image développé par Microsoft et IBM (Windows BitMap)"
   ]
  },
  {
   "cell_type": "markdown",
   "metadata": {},
   "source": [
    "En suivant les instruction https://stackoverrun.com/fr/q/5710092 nous commençons par utilisé un outil en ligne (xor-crack) cela va nous servire à scanner le fichier et nous renvoie un pourcentage sur la longueur de la clé pour notre fichier 'ch2.bmp' il nous renvoie '6'"
   ]
  },
  {
   "cell_type": "raw",
   "metadata": {},
   "source": [
    "Maintenant nous savons que la clé fait 6 de longueur, nous allons ouvrir le fichier en hex (hexadecimal) en fesant ca nous pouvons voir dans l'entrée (\"%$..udgitg.dgi.g\" \"ud.itg.dgiugUddi\") notre clé apparait quand le byte est à 0."
   ]
  },
  {
   "cell_type": "raw",
   "metadata": {},
   "source": [
    "Nous remarquont que certaine lettre revienne 'gitgud', voila le résultat qu'on obtiens après avoir retiré les lettre inutile."
   ]
  },
  {
   "cell_type": "raw",
   "metadata": {},
   "source": [
    "Arriver à ce stade nous allons utiliser la commande xortool-xor -f ch2.bmp -s 'gitgud' > newfile.bmp"
   ]
  },
  {
   "cell_type": "raw",
   "metadata": {},
   "source": [
    "Le resultat quand on ouvre le fichier newfile.bmp nous voyons l'image avec le text 'bravo les loulous'"
   ]
  }
 ],
 "metadata": {
  "kernelspec": {
   "display_name": "Python 3",
   "language": "python",
   "name": "python3"
  },
  "language_info": {
   "codemirror_mode": {
    "name": "ipython",
    "version": 3
   },
   "file_extension": ".py",
   "mimetype": "text/x-python",
   "name": "python",
   "nbconvert_exporter": "python",
   "pygments_lexer": "ipython3",
   "version": "3.7.6"
  }
 },
 "nbformat": 4,
 "nbformat_minor": 4
}
