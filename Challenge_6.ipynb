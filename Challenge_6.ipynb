{
 "cells": [
  {
   "cell_type": "raw",
   "metadata": {},
   "source": [
    "Cryptographie - Challenge 6"
   ]
  },
  {
   "cell_type": "markdown",
   "metadata": {},
   "source": [
    "Nous avons au depard un Hash : (dac1793ea030b627fe95e28e6e558e43), ont nous explique que la personne à hash sont password mais ne sais plus ce qu'il à mit il nous donne juste un indication (le mot de passe et court)"
   ]
  },
  {
   "cell_type": "markdown",
   "metadata": {},
   "source": [
    "Pour connaitre le type de Hash j'ai utiliser un outil en ligne (https://md5decrypt.net/Detecteur/) le retour est (MD5)"
   ]
  },
  {
   "cell_type": "markdown",
   "metadata": {},
   "source": [
    "En Sachant ça j'ai utiliser un autre outil en ligne qui va faire un brut force (https://hashtoolkit.com/decrypt-hash/?hash=dac1793ea030b627fe95e28e6e558e43)"
   ]
  },
  {
   "cell_type": "code",
   "execution_count": null,
   "metadata": {},
   "outputs": [],
   "source": [
    "Le re"
   ]
  }
 ],
 "metadata": {
  "kernelspec": {
   "display_name": "Python 3",
   "language": "python",
   "name": "python3"
  },
  "language_info": {
   "codemirror_mode": {
    "name": "ipython",
    "version": 3
   },
   "file_extension": ".py",
   "mimetype": "text/x-python",
   "name": "python",
   "nbconvert_exporter": "python",
   "pygments_lexer": "ipython3",
   "version": "3.7.6"
  }
 },
 "nbformat": 4,
 "nbformat_minor": 4
}
